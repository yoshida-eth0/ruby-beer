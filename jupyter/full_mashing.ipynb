{
 "cells": [
  {
   "cell_type": "code",
   "execution_count": 1,
   "id": "4a4772f3",
   "metadata": {},
   "outputs": [
    {
     "data": {
      "text/plain": [
       "#<Module:0x000000010f7ec5b0>"
      ]
     },
     "execution_count": 1,
     "metadata": {},
     "output_type": "execute_result"
    }
   ],
   "source": [
    "$LOAD_PATH << File.dirname(__FILE__) + \"/../lib\"\n",
    "\n",
    "require 'pandas'\n",
    "require 'matplotlib/iruby'\n",
    "Matplotlib::IRuby.activate\n",
    "pd = Pandas\n",
    "plt = Matplotlib::Pyplot\n",
    "\n",
    "require 'beer'\n",
    "include Beer"
   ]
  },
  {
   "cell_type": "markdown",
   "id": "db204db6",
   "metadata": {},
   "source": [
    "# 異なる麦芽を混合した場合の数値(PPG単位)"
   ]
  },
  {
   "cell_type": "code",
   "execution_count": 2,
   "id": "b44652c3",
   "metadata": {
    "scrolled": true
   },
   "outputs": [
    {
     "data": {
      "text/html": [
       "<div>\n",
       "<style scoped>\n",
       "    .dataframe tbody tr th:only-of-type {\n",
       "        vertical-align: middle;\n",
       "    }\n",
       "\n",
       "    .dataframe tbody tr th {\n",
       "        vertical-align: top;\n",
       "    }\n",
       "\n",
       "    .dataframe thead th {\n",
       "        text-align: right;\n",
       "    }\n",
       "</style>\n",
       "<table border=\"1\" class=\"dataframe\">\n",
       "  <thead>\n",
       "    <tr style=\"text-align: right;\">\n",
       "      <th></th>\n",
       "      <th>Weight</th>\n",
       "      <th>Brewhouse Yield</th>\n",
       "      <th>Plato</th>\n",
       "      <th>Specific Gravity</th>\n",
       "      <th>PPG</th>\n",
       "      <th>ABV</th>\n",
       "    </tr>\n",
       "  </thead>\n",
       "  <tbody>\n",
       "    <tr>\n",
       "      <th>0</th>\n",
       "      <td>500</td>\n",
       "      <td>0.778985</td>\n",
       "      <td>8.947419</td>\n",
       "      <td>1.036000</td>\n",
       "      <td>36.000000</td>\n",
       "      <td>3.658537</td>\n",
       "    </tr>\n",
       "    <tr>\n",
       "      <th>1</th>\n",
       "      <td>900</td>\n",
       "      <td>0.701086</td>\n",
       "      <td>8.052677</td>\n",
       "      <td>1.032400</td>\n",
       "      <td>32.400000</td>\n",
       "      <td>3.292683</td>\n",
       "    </tr>\n",
       "    <tr>\n",
       "      <th>2</th>\n",
       "      <td>300</td>\n",
       "      <td>0.681612</td>\n",
       "      <td>7.828991</td>\n",
       "      <td>1.031500</td>\n",
       "      <td>31.500000</td>\n",
       "      <td>3.201220</td>\n",
       "    </tr>\n",
       "    <tr>\n",
       "      <th>3</th>\n",
       "      <td>100</td>\n",
       "      <td>0.700200</td>\n",
       "      <td>8.042497</td>\n",
       "      <td>1.032359</td>\n",
       "      <td>32.359043</td>\n",
       "      <td>3.288521</td>\n",
       "    </tr>\n",
       "    <tr>\n",
       "      <th>Total</th>\n",
       "      <td>1800</td>\n",
       "      <td>0.719430</td>\n",
       "      <td>8.263370</td>\n",
       "      <td>1.033248</td>\n",
       "      <td>33.247725</td>\n",
       "      <td>3.378834</td>\n",
       "    </tr>\n",
       "  </tbody>\n",
       "</table>\n",
       "</div>"
      ],
      "text/plain": [
       "       Weight  Brewhouse Yield     Plato  Specific Gravity        PPG       ABV\n",
       "0         500         0.778985  8.947419          1.036000  36.000000  3.658537\n",
       "1         900         0.701086  8.052677          1.032400  32.400000  3.292683\n",
       "2         300         0.681612  7.828991          1.031500  31.500000  3.201220\n",
       "3         100         0.700200  8.042497          1.032359  32.359043  3.288521\n",
       "Total    1800         0.719430  8.263370          1.033248  33.247725  3.378834"
      ]
     },
     "execution_count": 2,
     "metadata": {},
     "output_type": "execute_result"
    }
   ],
   "source": [
    "# PPGの異なる麦芽を混合\n",
    "mashing_recipe = MashingRecipe.new\n",
    "  .add(500, Malt.ppg(40))\n",
    "  .add(900, Malt.ppg(36))\n",
    "  .add(300, Malt.ppg(35))\n",
    "  .add(100, Malt.spec(dbcg: 0.82, mc: 0.04))\n",
    "\n",
    "brewhouse_efficiency = 0.9\n",
    "attenuation = 0.75\n",
    "\n",
    "df = pd::DataFrame.new(mashing_recipe.malts.to_a, columns: [\"Weight\", \"_malt\"])\n",
    "df.loc[\"Total\"] = [mashing_recipe.weight, mashing_recipe.to_malt]\n",
    "\n",
    "df[\"_ppg\"] = df[\"_malt\"].map(lambda{|malt| malt.to_ingredient(brewhouse_efficiency).to_ppg})\n",
    "df[\"Brewhouse Yield\"] = df[\"_malt\"].map(lambda{|malt| malt.brewhouse_yield(brewhouse_efficiency)})\n",
    "df[\"Plato\"] = df[\"_malt\"].map(lambda{|malt| malt.plato(brewhouse_efficiency)})\n",
    "df[\"Specific Gravity\"] = df[\"_malt\"].map(lambda{|malt| malt.sg(brewhouse_efficiency)})\n",
    "df[\"PPG\"] = df[\"_malt\"].map(lambda{|malt| malt.ppg(brewhouse_efficiency)})\n",
    "df[\"ABV\"] = df[\"_ppg\"].map(lambda{|ppg| ppg.abv(attenuation)*100})\n",
    "\n",
    "df = df.drop(df.columns.to_a.select{|s| s.start_with?(\"_\")}, axis=1)\n",
    "df"
   ]
  },
  {
   "cell_type": "markdown",
   "id": "5a5c35a6",
   "metadata": {},
   "source": [
    "# 麦芽をマッシングした麦汁の数値"
   ]
  },
  {
   "cell_type": "code",
   "execution_count": 3,
   "id": "5f23c50b",
   "metadata": {
    "scrolled": true
   },
   "outputs": [
    {
     "data": {
      "text/latex": [
       "\\begin{tabular}{lr}\n",
       "\\toprule\n",
       "{} &             0 \\\\\n",
       "\\midrule\n",
       "Batch Size           &  10000.000000 \\\\\n",
       "Brewhouse Efficiency &      0.900000 \\\\\n",
       "Brix                 &     13.780863 \\\\\n",
       "Original Gravity     &      1.055902 \\\\\n",
       "ABV                  &      5.681121 \\\\\n",
       "\\bottomrule\n",
       "\\end{tabular}\n"
      ],
      "text/markdown": [
       "|                      |           0 |\n",
       "|:---------------------|------------:|\n",
       "| Batch Size           | 10000       |\n",
       "| Brewhouse Efficiency |     0.9     |\n",
       "| Brix                 |    13.7809  |\n",
       "| Original Gravity     |     1.0559  |\n",
       "| ABV                  |     5.68112 |"
      ],
      "text/plain": [
       "Batch Size              10000.000000\n",
       "Brewhouse Efficiency        0.900000\n",
       "Brix                       13.780863\n",
       "Original Gravity            1.055902\n",
       "ABV                         5.681121\n",
       "dtype: float64"
      ]
     },
     "execution_count": 3,
     "metadata": {},
     "output_type": "execute_result"
    }
   ],
   "source": [
    "# PPGの異なる麦芽を混合してマッシング\n",
    "wort = mashing_recipe.mash(10_000, brewhouse_efficiency)\n",
    "\n",
    "data = {\n",
    "  \"Batch Size\": wort.batch_size,\n",
    "  \"Brewhouse Efficiency\": brewhouse_efficiency,\n",
    "  \"Brix\": wort.to_ingredient.brix,\n",
    "  \"Original Gravity\": wort.og,\n",
    "  \"ABV\": wort.abv(attenuation) * 100,\n",
    "}\n",
    "pd::Series.new(data.values, index: data.keys)"
   ]
  },
  {
   "cell_type": "markdown",
   "id": "0d56fc06",
   "metadata": {},
   "source": [
    "# ホップを煮沸した麦汁の数値"
   ]
  },
  {
   "cell_type": "code",
   "execution_count": 4,
   "id": "9a22d1bc",
   "metadata": {},
   "outputs": [
    {
     "data": {
      "text/latex": [
       "\\begin{tabular}{lr}\n",
       "\\toprule\n",
       "{} &            0 \\\\\n",
       "\\midrule\n",
       "Batch Size       &  9500.000000 \\\\\n",
       "Brix             &    14.470523 \\\\\n",
       "Attenuation      &     0.750000 \\\\\n",
       "Original Gravity &     1.058844 \\\\\n",
       "Final Gravity    &     1.014711 \\\\\n",
       "ABV              &     5.980127 \\\\\n",
       "IBU              &    33.922991 \\\\\n",
       "\\bottomrule\n",
       "\\end{tabular}\n"
      ],
      "text/markdown": [
       "|                  |          0 |\n",
       "|:-----------------|-----------:|\n",
       "| Batch Size       | 9500       |\n",
       "| Brix             |   14.4705  |\n",
       "| Attenuation      |    0.75    |\n",
       "| Original Gravity |    1.05884 |\n",
       "| Final Gravity    |    1.01471 |\n",
       "| ABV              |    5.98013 |\n",
       "| IBU              |   33.923   |"
      ],
      "text/plain": [
       "Batch Size          9500.000000\n",
       "Brix                  14.470523\n",
       "Attenuation            0.750000\n",
       "Original Gravity       1.058844\n",
       "Final Gravity          1.014711\n",
       "ABV                    5.980127\n",
       "IBU                   33.922991\n",
       "dtype: float64"
      ]
     },
     "execution_count": 4,
     "metadata": {},
     "output_type": "execute_result"
    }
   ],
   "source": [
    "boil_recipe = BoilRecipe.new\n",
    "  .add(20, 60, Hop.new(6 * 0.01))\n",
    "\n",
    "evaporation_rate = 0.05\n",
    "\n",
    "wort\n",
    "  .boil(boil_recipe, evaporation_rate)\n",
    "\n",
    "data = {\n",
    "  \"Batch Size\": wort.batch_size,\n",
    "  \"Brix\": wort.to_ingredient.brix,\n",
    "  \"Attenuation\": attenuation,\n",
    "  \"Original Gravity\": wort.og,\n",
    "  \"Final Gravity\": wort.fg(attenuation),\n",
    "  \"ABV\": wort.abv(attenuation) * 100,\n",
    "  \"IBU\": wort.ibu,\n",
    "}\n",
    "pd::Series.new(data.values, index: data.keys)"
   ]
  },
  {
   "cell_type": "code",
   "execution_count": null,
   "id": "93baf28e",
   "metadata": {},
   "outputs": [],
   "source": []
  }
 ],
 "metadata": {
  "kernelspec": {
   "display_name": "Ruby 2.7.1",
   "language": "ruby",
   "name": "ruby"
  },
  "language_info": {
   "file_extension": ".rb",
   "mimetype": "application/x-ruby",
   "name": "ruby",
   "version": "3.1.0"
  }
 },
 "nbformat": 4,
 "nbformat_minor": 5
}
