{
 "cells": [
  {
   "cell_type": "code",
   "execution_count": 1,
   "id": "db9579fe",
   "metadata": {},
   "outputs": [
    {
     "data": {
      "text/plain": [
       "#<Module:0x000000010badc8f0>"
      ]
     },
     "execution_count": 1,
     "metadata": {},
     "output_type": "execute_result"
    }
   ],
   "source": [
    "$LOAD_PATH << File.dirname(__FILE__) + \"/../lib\"\n",
    "\n",
    "require 'pandas'\n",
    "require 'matplotlib/iruby'\n",
    "Matplotlib::IRuby.activate\n",
    "pd = Pandas\n",
    "plt = Matplotlib::Pyplot\n",
    "\n",
    "require 'beer'\n",
    "include Beer"
   ]
  },
  {
   "cell_type": "markdown",
   "id": "7be29bb3",
   "metadata": {},
   "source": [
    "# 糖度の単位を相互変換"
   ]
  },
  {
   "cell_type": "code",
   "execution_count": 2,
   "id": "d0baf070",
   "metadata": {},
   "outputs": [
    {
     "data": {
      "text/html": [
       "<div>\n",
       "<style scoped>\n",
       "    .dataframe tbody tr th:only-of-type {\n",
       "        vertical-align: middle;\n",
       "    }\n",
       "\n",
       "    .dataframe tbody tr th {\n",
       "        vertical-align: top;\n",
       "    }\n",
       "\n",
       "    .dataframe thead th {\n",
       "        text-align: right;\n",
       "    }\n",
       "</style>\n",
       "<table border=\"1\" class=\"dataframe\">\n",
       "  <thead>\n",
       "    <tr style=\"text-align: right;\">\n",
       "      <th></th>\n",
       "      <th>Brix</th>\n",
       "      <th>Plato</th>\n",
       "      <th>Specific Gravity</th>\n",
       "      <th>PPG</th>\n",
       "      <th>Alcohol by value</th>\n",
       "    </tr>\n",
       "    <tr>\n",
       "      <th>Source</th>\n",
       "      <th></th>\n",
       "      <th></th>\n",
       "      <th></th>\n",
       "      <th></th>\n",
       "      <th></th>\n",
       "    </tr>\n",
       "  </thead>\n",
       "  <tbody>\n",
       "    <tr>\n",
       "      <th>brix = 13.5</th>\n",
       "      <td>13.500000</td>\n",
       "      <td>13.500806</td>\n",
       "      <td>1.054708</td>\n",
       "      <td>54.708167</td>\n",
       "      <td>5.559773</td>\n",
       "    </tr>\n",
       "    <tr>\n",
       "      <th>plato = 13.5</th>\n",
       "      <td>13.499195</td>\n",
       "      <td>13.500000</td>\n",
       "      <td>1.054705</td>\n",
       "      <td>54.704746</td>\n",
       "      <td>5.559425</td>\n",
       "    </tr>\n",
       "    <tr>\n",
       "      <th>sg = 1.055</th>\n",
       "      <td>13.568696</td>\n",
       "      <td>13.569511</td>\n",
       "      <td>1.055000</td>\n",
       "      <td>55.000000</td>\n",
       "      <td>5.589431</td>\n",
       "    </tr>\n",
       "    <tr>\n",
       "      <th>abv = 5.56%</th>\n",
       "      <td>13.500526</td>\n",
       "      <td>13.501331</td>\n",
       "      <td>1.054710</td>\n",
       "      <td>54.710400</td>\n",
       "      <td>5.560000</td>\n",
       "    </tr>\n",
       "    <tr>\n",
       "      <th>ppg = 55</th>\n",
       "      <td>13.568696</td>\n",
       "      <td>13.569511</td>\n",
       "      <td>1.055000</td>\n",
       "      <td>55.000000</td>\n",
       "      <td>5.589431</td>\n",
       "    </tr>\n",
       "  </tbody>\n",
       "</table>\n",
       "</div>"
      ],
      "text/plain": [
       "                   Brix      Plato  Specific Gravity        PPG  Alcohol by value\n",
       "Source                                                                           \n",
       "brix = 13.5   13.500000  13.500806          1.054708  54.708167          5.559773\n",
       "plato = 13.5  13.499195  13.500000          1.054705  54.704746          5.559425\n",
       "sg = 1.055    13.568696  13.569511          1.055000  55.000000          5.589431\n",
       "abv = 5.56%   13.500526  13.501331          1.054710  54.710400          5.560000\n",
       "ppg = 55      13.568696  13.569511          1.055000  55.000000          5.589431"
      ]
     },
     "execution_count": 2,
     "metadata": {},
     "output_type": "execute_result"
    }
   ],
   "source": [
    "attenuation = 0.75\n",
    "ingredients = { \n",
    "  \"brix = 13.5\": Ingredient.brix(13.5),\n",
    "  \"plato = 13.5\": Ingredient.plato(13.5),\n",
    "  \"sg = 1.055\": Ingredient.sg(1.055),\n",
    "  \"abv = 5.56%\": Ingredient.abv(5.56 * 0.01, attenuation),\n",
    "  \"ppg = 55\": Ingredient.ppg(55),\n",
    "}\n",
    "\n",
    "data = ingredients.values.map {|ingredient|\n",
    "  [ingredient.brix, ingredient.plato, ingredient.sg, ingredient.ppg, ingredient.abv(attenuation)*100]\n",
    "}\n",
    "columns = [\"Brix\", \"Plato\", \"Specific Gravity\", \"PPG\", \"Alcohol by value\"]\n",
    "df = pd.DataFrame.new(data, index: ingredients.keys, columns: columns)\n",
    "df.index.name = \"Source\"\n",
    "df"
   ]
  },
  {
   "cell_type": "code",
   "execution_count": null,
   "id": "4865a8fc",
   "metadata": {},
   "outputs": [],
   "source": []
  }
 ],
 "metadata": {
  "kernelspec": {
   "display_name": "Ruby 2.7.1",
   "language": "ruby",
   "name": "ruby"
  },
  "language_info": {
   "file_extension": ".rb",
   "mimetype": "application/x-ruby",
   "name": "ruby",
   "version": "3.1.0"
  }
 },
 "nbformat": 4,
 "nbformat_minor": 5
}
